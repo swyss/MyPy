{
 "cells": [
  {
   "cell_type": "markdown",
   "metadata": {},
   "source": [
    "# Verwendung von Numpy für die Vektorgeometrie #\n",
    "Numpy ist eine Bibliothek für die lineare Algebra. Insbesondere können auch die Vektoroperationen, die wir bisher behandelt haben, mit Numpy durchgeführt werden."
   ]
  },
  {
   "cell_type": "code",
   "execution_count": null,
   "metadata": {},
   "outputs": [],
   "source": []
  },
  {
   "cell_type": "code",
   "execution_count": 1,
   "metadata": {},
   "outputs": [],
   "source": [
    "import numpy as np\n",
    "import numpy.linalg as la"
   ]
  },
  {
   "cell_type": "markdown",
   "metadata": {},
   "source": [
    "### Definition von Vektoren und Vektorraum-Operationen ###"
   ]
  },
  {
   "cell_type": "code",
   "execution_count": 2,
   "metadata": {},
   "outputs": [
    {
     "data": {
      "text/plain": [
       "array([1, 2, 3])"
      ]
     },
     "execution_count": 2,
     "metadata": {},
     "output_type": "execute_result"
    }
   ],
   "source": [
    "a = np.array([1,2,3])\n",
    "a"
   ]
  },
  {
   "cell_type": "code",
   "execution_count": 3,
   "metadata": {},
   "outputs": [
    {
     "data": {
      "text/plain": [
       "array([10, 20, 30])"
      ]
     },
     "execution_count": 3,
     "metadata": {},
     "output_type": "execute_result"
    }
   ],
   "source": [
    "b = 10 * a\n",
    "b"
   ]
  },
  {
   "cell_type": "code",
   "execution_count": 4,
   "metadata": {},
   "outputs": [
    {
     "data": {
      "text/plain": [
       "array([11, 22, 33])"
      ]
     },
     "execution_count": 4,
     "metadata": {},
     "output_type": "execute_result"
    }
   ],
   "source": [
    "a + b"
   ]
  },
  {
   "cell_type": "code",
   "execution_count": 5,
   "metadata": {},
   "outputs": [
    {
     "data": {
      "text/plain": [
       "array([ 9, 18, 27])"
      ]
     },
     "execution_count": 5,
     "metadata": {},
     "output_type": "execute_result"
    }
   ],
   "source": [
    "b - a"
   ]
  },
  {
   "cell_type": "code",
   "execution_count": 6,
   "metadata": {},
   "outputs": [
    {
     "data": {
      "text/plain": [
       "3.7416573867739413"
      ]
     },
     "execution_count": 6,
     "metadata": {},
     "output_type": "execute_result"
    }
   ],
   "source": [
    "# Länge\n",
    "la.norm(a)"
   ]
  },
  {
   "cell_type": "markdown",
   "metadata": {},
   "source": [
    "### Produkte ###"
   ]
  },
  {
   "cell_type": "code",
   "execution_count": 7,
   "metadata": {},
   "outputs": [
    {
     "data": {
      "text/plain": [
       "140"
      ]
     },
     "execution_count": 7,
     "metadata": {},
     "output_type": "execute_result"
    }
   ],
   "source": [
    "# Skalarprodukt\n",
    "a @ b"
   ]
  },
  {
   "cell_type": "code",
   "execution_count": 8,
   "metadata": {},
   "outputs": [
    {
     "data": {
      "text/plain": [
       "140"
      ]
     },
     "execution_count": 8,
     "metadata": {},
     "output_type": "execute_result"
    }
   ],
   "source": [
    "# Skalarprodukt\n",
    "c= np.dot(a,b)\n",
    "c"
   ]
  },
  {
   "cell_type": "code",
   "execution_count": 9,
   "metadata": {},
   "outputs": [
    {
     "data": {
      "text/plain": [
       "array([0, 0, 0])"
      ]
     },
     "execution_count": 9,
     "metadata": {},
     "output_type": "execute_result"
    }
   ],
   "source": [
    "# Vektorprodukt\n",
    "np.cross(a, b)"
   ]
  },
  {
   "cell_type": "code",
   "execution_count": 10,
   "metadata": {},
   "outputs": [
    {
     "data": {
      "text/plain": [
       "array([0, 0, 1])"
      ]
     },
     "execution_count": 10,
     "metadata": {},
     "output_type": "execute_result"
    }
   ],
   "source": [
    "np.cross([1,0,0], [0,1,0])"
   ]
  },
  {
   "cell_type": "code",
   "execution_count": 11,
   "metadata": {},
   "outputs": [
    {
     "name": "stdout",
     "output_type": "stream",
     "text": [
      "[[2 0]\n",
      " [0 3]]\n",
      "[[2 3]\n",
      " [5 7]]\n",
      "[[ 4  6]\n",
      " [15 21]]\n"
     ]
    }
   ],
   "source": [
    "# Matrizenprodukt\n",
    "D = np.array([[2,0],[0,3]])\n",
    "M = np.array([[2,3],[5,7]])\n",
    "print(D)\n",
    "print(M)\n",
    "print(D @ M)"
   ]
  },
  {
   "cell_type": "code",
   "execution_count": 12,
   "metadata": {},
   "outputs": [
    {
     "name": "stdout",
     "output_type": "stream",
     "text": [
      "[[0.5        0.        ]\n",
      " [0.         0.33333333]]\n",
      "[[-7.  3.]\n",
      " [ 5. -2.]]\n"
     ]
    }
   ],
   "source": [
    "# Inverse Matrix\n",
    "print(la.inv(D))\n",
    "print(la.inv(M))"
   ]
  },
  {
   "cell_type": "markdown",
   "metadata": {},
   "source": [
    "## Gleichungssysteme und Matrizenrang"
   ]
  },
  {
   "cell_type": "code",
   "execution_count": 13,
   "metadata": {},
   "outputs": [
    {
     "name": "stdout",
     "output_type": "stream",
     "text": [
      "[[2 3]\n",
      " [5 7]]\n",
      "[1 2]\n",
      "[-1.  1.]\n"
     ]
    }
   ],
   "source": [
    "# Lösung eines Gleichungssystems \n",
    "b = np.array([1,2])\n",
    "print(M)\n",
    "print(b)\n",
    "print(la.solve(M, b))"
   ]
  },
  {
   "cell_type": "code",
   "execution_count": 14,
   "metadata": {},
   "outputs": [
    {
     "data": {
      "text/plain": [
       "2"
      ]
     },
     "execution_count": 14,
     "metadata": {},
     "output_type": "execute_result"
    }
   ],
   "source": [
    "# Matrizenrang\n",
    "la.matrix_rank(M)"
   ]
  },
  {
   "cell_type": "markdown",
   "metadata": {},
   "source": [
    "### Determinanten ###"
   ]
  },
  {
   "cell_type": "code",
   "execution_count": 15,
   "metadata": {},
   "outputs": [
    {
     "name": "stdout",
     "output_type": "stream",
     "text": [
      "[[1 2]\n",
      " [3 4]]\n",
      "-2.0000000000000004\n",
      "-2.0000000000000004\n"
     ]
    }
   ],
   "source": [
    "# 2*2-Determinanten\n",
    "f = np.array([1,2])\n",
    "g = np.array([3,4])\n",
    "M2 = np.array([f,g])\n",
    "print(M2)\n",
    "print(la.det([f, g]))\n",
    "print(la.det(M2))"
   ]
  },
  {
   "cell_type": "code",
   "execution_count": 16,
   "metadata": {},
   "outputs": [
    {
     "name": "stdout",
     "output_type": "stream",
     "text": [
      "[[ 1  2  3]\n",
      " [ 2  1  4]\n",
      " [ 1 -1  1]]\n",
      "0.0\n",
      "[[ 1  2  3]\n",
      " [ 1 -1  1]\n",
      " [ 2  1  0]]\n",
      "11.999999999999995\n"
     ]
    }
   ],
   "source": [
    "# 3*3-Determinanten \n",
    "a = np.array([1,2,3])\n",
    "c = np.array([1, -1, 1])\n",
    "b = a + c\n",
    "d = np.array([2,  1, 0])\n",
    "Mabc = np.array([a, b, c])\n",
    "print(Mabc)\n",
    "print(la.det(Mabc))\n",
    "Macd = np.array([a, c, d])\n",
    "print(Macd)\n",
    "print(la.det(Macd))"
   ]
  },
  {
   "cell_type": "markdown",
   "metadata": {},
   "source": [
    "### Indizierung ###"
   ]
  },
  {
   "cell_type": "code",
   "execution_count": 17,
   "metadata": {},
   "outputs": [
    {
     "name": "stdout",
     "output_type": "stream",
     "text": [
      "[10 11 12 13 14 15 16]\n",
      "10\n",
      "11\n",
      "[12 13 15]\n",
      "[12 13 14 15]\n",
      "14\n",
      "[10 11 12 13]\n",
      "[14 15 16]\n"
     ]
    }
   ],
   "source": [
    "v = np.array([10, 11, 12, 13, 14, 15, 16])\n",
    "print(v)\n",
    "print(v[0])\n",
    "print(v[1])\n",
    "print(v[[2, 3, 5]])\n",
    "print(v[2:6])\n",
    "print(v[4])\n",
    "print(v[:4])\n",
    "print(v[4:])"
   ]
  },
  {
   "cell_type": "markdown",
   "metadata": {},
   "source": [
    "### Zeilen und Spaltenvektoren ###\n",
    "Bei eindimensionalen Vektoren wird nicht zwischen Zeilen und Spaltenvektoren unterschieden.\n",
    "\n",
    "Es ist jedoch möglich, Vektoren als Matrizen aufzufassen mit nur einer Zeile bzw. nur einer Spalte."
   ]
  },
  {
   "cell_type": "code",
   "execution_count": 18,
   "metadata": {},
   "outputs": [
    {
     "name": "stdout",
     "output_type": "stream",
     "text": [
      "[[10 11 12 13 14 15 16]]\n",
      "[[10 11 12 13 14 15 16]]\n"
     ]
    }
   ],
   "source": [
    "# Zeilenvektoren\n",
    "v_zeile_a = v.reshape(1,-1)\n",
    "v_zeile_b = v.reshape(1,len(v))\n",
    "print(v_zeile_a)\n",
    "print(v_zeile_b)"
   ]
  },
  {
   "cell_type": "code",
   "execution_count": 19,
   "metadata": {},
   "outputs": [
    {
     "name": "stdout",
     "output_type": "stream",
     "text": [
      "[[10]\n",
      " [11]\n",
      " [12]\n",
      " [13]\n",
      " [14]\n",
      " [15]\n",
      " [16]]\n"
     ]
    }
   ],
   "source": [
    "# Spaltenvektoren\n",
    "v_spalte = v.reshape(-1,1)\n",
    "print(v_spalte)"
   ]
  },
  {
   "cell_type": "code",
   "execution_count": 20,
   "metadata": {},
   "outputs": [
    {
     "data": {
      "text/plain": [
       "array([[10, 20, 30],\n",
       "       [40, 50, 60]])"
      ]
     },
     "execution_count": 20,
     "metadata": {},
     "output_type": "execute_result"
    }
   ],
   "source": [
    "vek = np.array([10, 20, 30, 40, 50 , 60])\n",
    "vek.reshape(2,-1)"
   ]
  },
  {
   "cell_type": "markdown",
   "metadata": {},
   "source": [
    "### Vergleich von Vektoren ###"
   ]
  },
  {
   "cell_type": "code",
   "execution_count": 21,
   "metadata": {},
   "outputs": [],
   "source": [
    "u = np.array([1, 1, 1])\n",
    "v = np.array([0, 1, 2])\n",
    "w = np.array([0, 1, 2])"
   ]
  },
  {
   "cell_type": "code",
   "execution_count": 22,
   "metadata": {},
   "outputs": [],
   "source": [
    "# Elementweiser Vergleich"
   ]
  },
  {
   "cell_type": "code",
   "execution_count": 23,
   "metadata": {},
   "outputs": [
    {
     "data": {
      "text/plain": [
       "array([False,  True, False])"
      ]
     },
     "execution_count": 23,
     "metadata": {},
     "output_type": "execute_result"
    }
   ],
   "source": [
    "u == v"
   ]
  },
  {
   "cell_type": "code",
   "execution_count": 24,
   "metadata": {},
   "outputs": [
    {
     "name": "stdout",
     "output_type": "stream",
     "text": [
      "False\n",
      "True\n"
     ]
    }
   ],
   "source": [
    "# Vergleich der Strukturen\n",
    "print(np.array_equal(u, v))\n",
    "print(np.array_equal(v, w))"
   ]
  },
  {
   "cell_type": "markdown",
   "metadata": {},
   "source": [
    "### Erzeugung von Bereichen ###"
   ]
  },
  {
   "cell_type": "code",
   "execution_count": 25,
   "metadata": {},
   "outputs": [
    {
     "data": {
      "text/plain": [
       "array([0, 1, 2, 3, 4])"
      ]
     },
     "execution_count": 25,
     "metadata": {},
     "output_type": "execute_result"
    }
   ],
   "source": [
    "np.arange(5)"
   ]
  },
  {
   "cell_type": "code",
   "execution_count": 26,
   "metadata": {},
   "outputs": [
    {
     "data": {
      "text/plain": [
       "array([ 3,  4,  5,  6,  7,  8,  9, 10])"
      ]
     },
     "execution_count": 26,
     "metadata": {},
     "output_type": "execute_result"
    }
   ],
   "source": [
    "np.arange(3, 11)"
   ]
  },
  {
   "cell_type": "code",
   "execution_count": 27,
   "metadata": {},
   "outputs": [
    {
     "data": {
      "text/plain": [
       "array([ 0,  2,  4,  6,  8, 10, 12, 14, 16, 18])"
      ]
     },
     "execution_count": 27,
     "metadata": {},
     "output_type": "execute_result"
    }
   ],
   "source": [
    "np.arange(0, 20, 2) # Schrittweite = 2"
   ]
  },
  {
   "cell_type": "code",
   "execution_count": 28,
   "metadata": {},
   "outputs": [
    {
     "data": {
      "text/plain": [
       "array([ 0.,  2.,  4.,  6.,  8., 10., 12., 14., 16., 18., 20.])"
      ]
     },
     "execution_count": 28,
     "metadata": {},
     "output_type": "execute_result"
    }
   ],
   "source": [
    "np.linspace(0, 20, 11) # Anzahl Elemente = 11"
   ]
  },
  {
   "cell_type": "markdown",
   "metadata": {},
   "source": [
    "## Matplotlib"
   ]
  },
  {
   "cell_type": "code",
   "execution_count": 29,
   "metadata": {},
   "outputs": [],
   "source": [
    "import matplotlib.pyplot as plt"
   ]
  },
  {
   "cell_type": "code",
   "execution_count": 30,
   "metadata": {},
   "outputs": [
    {
     "data": {
      "text/plain": [
       "[<matplotlib.lines.Line2D at 0x2be2ee7ab50>]"
      ]
     },
     "execution_count": 30,
     "metadata": {},
     "output_type": "execute_result"
    },
    {
     "data": {
      "image/png": "[encoded data removed]",
      "text/plain": [
       "<Figure size 640x480 with 1 Axes>"
      ]
     },
     "metadata": {},
     "output_type": "display_data"
    }
   ],
   "source": [
    "xx = np.linspace(-1, 1, 101)\n",
    "yy = np.sqrt(1 - xx**2)\n",
    "plt.plot(xx,yy)"
   ]
  },
  {
   "cell_type": "code",
   "execution_count": 31,
   "metadata": {},
   "outputs": [
    {
     "data": {
      "image/png": "[encoded data removed]",
      "text/plain": [
       "<Figure size 640x480 with 1 Axes>"
      ]
     },
     "metadata": {},
     "output_type": "display_data"
    }
   ],
   "source": [
    "xx = np.linspace(-1, 1, 101)\n",
    "yy = np.sqrt(1 - xx**2)\n",
    "plt.plot(xx,yy)\n",
    "plt.gca().set_aspect(1)"
   ]
  },
  {
   "cell_type": "code",
   "execution_count": 32,
   "metadata": {},
   "outputs": [],
   "source": [
    "# plt.rcParams.update({'font.size': 22})"
   ]
  },
  {
   "cell_type": "code",
   "execution_count": 33,
   "metadata": {},
   "outputs": [
    {
     "data": {
      "image/png": "[encoded data removed]",
      "text/plain": [
       "<Figure size 640x480 with 1 Axes>"
      ]
     },
     "metadata": {},
     "output_type": "display_data"
    }
   ],
   "source": [
    "plt.arrow(1,2,3,4, head_width=0.3, length_includes_head=True)\n",
    "plt.xlim((0,5))\n",
    "plt.ylim((0,7))\n",
    "plt.text(0.7,1.6,'A')\n",
    "plt.text(4.1,6.1,'B')\n",
    "plt.text(3,4,'$\\overrightarrow{AB}$') # LaTeX Syntax ist möglich\n",
    "plt.gca().set_aspect(1)"
   ]
  },
  {
   "cell_type": "code",
   "execution_count": 34,
   "metadata": {},
   "outputs": [
    {
     "name": "stdout",
     "output_type": "stream",
     "text": [
      "[[1 2]\n",
      " [3 4]]\n",
      "[[1 3]\n",
      " [2 4]]\n",
      "[[-2.   1. ]\n",
      " [ 1.5 -0.5]]\n",
      "-2.0000000000000004\n",
      "2\n",
      "[-0.37228132  5.37228132]\n",
      "[[-0.82456484 -0.41597356]\n",
      " [ 0.56576746 -0.90937671]]\n",
      "[[-0.31622777 -0.9486833 ]\n",
      " [-0.9486833   0.31622777]]\n",
      "[[-3.16227766 -4.42718872]\n",
      " [ 0.         -0.63245553]]\n"
     ]
    }
   ],
   "source": [
    "# Matrix creation\n",
    "A = np.array([[1, 2], [3, 4]])\n",
    "b = np.array([1, 2])\n",
    "# Matrix transpose\n",
    "A_transpose = A.T\n",
    "\n",
    "# Matrix inverse\n",
    "A_inv = la.inv(A)\n",
    "\n",
    "# Matrix determinant\n",
    "det = la.det(A)\n",
    "\n",
    "# Matrix rank\n",
    "rank = la.matrix_rank(A)\n",
    "\n",
    "# Eigenvalues and eigenvectors\n",
    "eig_vals, eig_vecs = la.eig(A)\n",
    "\n",
    "# Matrix decomposition\n",
    "#P, L, U = la.lu(A) # LU decomposition\n",
    "Q, R = la.qr(A) # QR decomposition\n",
    "\n",
    "# QR decomposition using Gram-Schmidt process\n",
    "Q, R = np.linalg.qr(A, mode='complete')\n",
    "\n",
    "print(A)\n",
    "print(A_transpose)\n",
    "print(A_inv)\n",
    "print(det)\n",
    "print(rank)\n",
    "print(eig_vals)\n",
    "print(eig_vecs)\n",
    "print(Q)\n",
    "print(R)"
   ]
  }
 ],
 "metadata": {
  "anaconda-cloud": {},
  "kernelspec": {
   "display_name": "Python 3",
   "language": "python",
   "name": "python3"
  },
  "language_info": {
   "codemirror_mode": {
    "name": "ipython",
    "version": 3
   },
   "file_extension": ".py",
   "mimetype": "text/x-python",
   "name": "python",
   "nbconvert_exporter": "python",
   "pygments_lexer": "ipython3",
   "version": "3.11.1 (tags/v3.11.1:a7a450f, Dec  6 2022, 19:58:39) [MSC v.1934 64 bit (AMD64)]"
  },
  "vscode": {
   "interpreter": {
    "hash": "5238573367df39f7286bb46f9ff5f08f63a01a80960060ce41e3c79b190280fa"
   }
  }
 },
 "nbformat": 4,
 "nbformat_minor": 2
}
