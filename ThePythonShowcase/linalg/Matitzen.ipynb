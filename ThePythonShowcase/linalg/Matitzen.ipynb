{
 "cells": [
  {
   "cell_type": "code",
   "execution_count": 16,
   "metadata": {},
   "outputs": [],
   "source": [
    "from IPython import display\n",
    "import numpy as np\n",
    "import sympy as sym\n",
    "import numpy.linalg as la\n"
   ]
  },
  {
   "attachments": {},
   "cell_type": "markdown",
   "metadata": {},
   "source": [
    "## Matritzen\n",
    "\n",
    "### Berechnungen"
   ]
  },
  {
   "attachments": {},
   "cell_type": "markdown",
   "metadata": {},
   "source": [
    "#### Inner product"
   ]
  },
  {
   "cell_type": "code",
   "execution_count": 17,
   "metadata": {},
   "outputs": [
    {
     "name": "stdout",
     "output_type": "stream",
     "text": [
      "a=  [1 2 3]\n",
      "b=  [4 5 6]\n",
      "\n",
      "inner: 32\n",
      "dot: 32\n"
     ]
    }
   ],
   "source": [
    "# Vectors as 1D numpy arrays\n",
    "a = np.array([1, 2, 3])\n",
    "b = np.array([4, 5, 6])\n",
    "\n",
    "print(\"a= \", a)\n",
    "print(\"b= \", b)\n",
    "print(\"\\ninner:\", np.inner(a, b))\n",
    "print(\"dot:\", np.dot(a, b))"
   ]
  },
  {
   "attachments": {},
   "cell_type": "markdown",
   "metadata": {},
   "source": [
    "#### Dot product"
   ]
  },
  {
   "cell_type": "code",
   "execution_count": 18,
   "metadata": {},
   "outputs": [
    {
     "name": "stdout",
     "output_type": "stream",
     "text": [
      "a <class 'numpy.ndarray'>\n",
      "[[1 2]\n",
      " [3 4]]\n",
      "\n",
      "b <class 'numpy.ndarray'>\n",
      "[[ 5  6  7]\n",
      " [ 8  9 10]]\n",
      "\n",
      "c <class 'numpy.matrix'>\n",
      "[[1 2]\n",
      " [3 4]]\n",
      "\n",
      "d <class 'numpy.matrix'>\n",
      "[[ 5  6  7]\n",
      " [ 8  9 10]]\n",
      "\n",
      "dot product of two ndarray objects\n",
      "[[21 24 27]\n",
      " [47 54 61]]\n",
      "\n",
      "dot product of two matrix objects\n",
      "[[21 24 27]\n",
      " [47 54 61]]\n"
     ]
    }
   ],
   "source": [
    "# Matrices as ndarray objects\n",
    "a = np.array([[1, 2], [3, 4]])\n",
    "b = np.array([[5, 6, 7], [8, 9, 10]])\n",
    "print(\"a\", type(a))\n",
    "print(a)\n",
    "print(\"\\nb\", type(b))\n",
    "print(b)\n",
    "\n",
    "# Matrices as matrix objects\n",
    "c = np.matrix([[1, 2], [3, 4]])\n",
    "d = np.matrix([[5, 6, 7], [8, 9, 10]])\n",
    "print(\"\\nc\", type(c))\n",
    "print(c)\n",
    "print(\"\\nd\", type(d))\n",
    "print(d)\n",
    "print(\"\\ndot product of two ndarray objects\")\n",
    "print(np.dot(a, b))\n",
    "print(\"\\ndot product of two matrix objects\")\n",
    "print(np.dot(c, d))"
   ]
  },
  {
   "attachments": {},
   "cell_type": "markdown",
   "metadata": {},
   "source": [
    "#### Transpose"
   ]
  },
  {
   "cell_type": "code",
   "execution_count": 19,
   "metadata": {},
   "outputs": [
    {
     "name": "stdout",
     "output_type": "stream",
     "text": [
      "a = \n",
      "[[1 2]\n",
      " [3 4]\n",
      " [5 6]]\n",
      "\n",
      "With np.transpose(a) function\n",
      "[[1 3 5]\n",
      " [2 4 6]]\n",
      "\n",
      "With ndarray.transpose() method\n",
      "[[1 3 5]\n",
      " [2 4 6]]\n",
      "\n",
      "With ndarray.T short form\n",
      "[[1 3 5]\n",
      " [2 4 6]]\n"
     ]
    }
   ],
   "source": [
    "a = np.array([[1, 2], [3, 4], [5, 6]])\n",
    "print(\"a = \")\n",
    "print(a)\n",
    "\n",
    "print(\"\\nWith np.transpose(a) function\")\n",
    "print(np.transpose(a))\n",
    "\n",
    "print(\"\\nWith ndarray.transpose() method\")\n",
    "print(a.transpose())\n",
    "\n",
    "print(\"\\nWith ndarray.T short form\")\n",
    "print(a.T)"
   ]
  },
  {
   "attachments": {},
   "cell_type": "markdown",
   "metadata": {},
   "source": [
    "#### Trace"
   ]
  },
  {
   "cell_type": "code",
   "execution_count": 20,
   "metadata": {},
   "outputs": [
    {
     "name": "stdout",
     "output_type": "stream",
     "text": [
      "a = \n",
      "[[2 2 1]\n",
      " [1 3 1]\n",
      " [1 2 2]]\n",
      "\n",
      "Trace: 7\n",
      "Trace: 7\n"
     ]
    }
   ],
   "source": [
    "a = np.array([[2, 2, 1],\n",
    "               [1, 3, 1],\n",
    "               [1, 2, 2]])\n",
    "print(\"a = \")\n",
    "print(a)\n",
    "print(\"\\nTrace:\", a.trace())\n",
    "print(\"Trace:\", sum(a.diagonal()))"
   ]
  },
  {
   "attachments": {},
   "cell_type": "markdown",
   "metadata": {},
   "source": [
    "#### Rank"
   ]
  },
  {
   "cell_type": "code",
   "execution_count": 21,
   "metadata": {},
   "outputs": [
    {
     "name": "stdout",
     "output_type": "stream",
     "text": [
      "a = \n",
      "[[1 2 3]\n",
      " [4 5 6]\n",
      " [7 8 9]]\n",
      "\n",
      "Rank: 2\n"
     ]
    }
   ],
   "source": [
    "a = np.arange(1, 10)\n",
    "a.shape = (3, 3)\n",
    "print(\"a = \")\n",
    "print(a)\n",
    "rank = np.linalg.matrix_rank(a)\n",
    "print(\"\\nRank:\", rank)"
   ]
  },
  {
   "attachments": {},
   "cell_type": "markdown",
   "metadata": {},
   "source": [
    "#### Determinant"
   ]
  },
  {
   "cell_type": "code",
   "execution_count": 22,
   "metadata": {},
   "outputs": [
    {
     "name": "stdout",
     "output_type": "stream",
     "text": [
      "a = \n",
      "[[2 2 1]\n",
      " [1 3 1]\n",
      " [1 2 2]]\n",
      "\n",
      "Determinant: 5.0\n"
     ]
    }
   ],
   "source": [
    "a = np.array([[2, 2, 1],\n",
    "               [1, 3, 1],\n",
    "               [1, 2, 2]])\n",
    "print(\"a = \")\n",
    "print(a)\n",
    "det = np.linalg.det(a)\n",
    "print(\"\\nDeterminant:\", np.round(det))"
   ]
  },
  {
   "attachments": {},
   "cell_type": "markdown",
   "metadata": {},
   "source": [
    "#### True inverse"
   ]
  },
  {
   "cell_type": "code",
   "execution_count": 23,
   "metadata": {},
   "outputs": [
    {
     "name": "stdout",
     "output_type": "stream",
     "text": [
      "a = \n",
      "[[2 2 1]\n",
      " [1 3 1]\n",
      " [1 2 2]]\n",
      "\n",
      "Determinant: 5.0\n",
      "\n",
      "Inverse of a = \n",
      "[[ 0.8 -0.4 -0.2]\n",
      " [-0.2  0.6 -0.2]\n",
      " [-0.2 -0.4  0.8]]\n"
     ]
    }
   ],
   "source": [
    "a = np.array([[2, 2, 1],\n",
    "               [1, 3, 1],\n",
    "               [1, 2, 2]])\n",
    "print(\"a = \")\n",
    "print(a)\n",
    "det = np.linalg.det(a)\n",
    "print(\"\\nDeterminant:\", np.round(det))\n",
    "inv = np.linalg.inv(a)\n",
    "print(\"\\nInverse of a = \")\n",
    "print(inv)"
   ]
  },
  {
   "attachments": {},
   "cell_type": "markdown",
   "metadata": {},
   "source": [
    "#### Pseudo inverse"
   ]
  },
  {
   "cell_type": "code",
   "execution_count": 24,
   "metadata": {},
   "outputs": [
    {
     "name": "stdout",
     "output_type": "stream",
     "text": [
      "a = \n",
      "[[2 8]\n",
      " [1 4]]\n",
      "\n",
      "Determinant: 0.0\n",
      "\n",
      "Pseudo Inverse of a = \n",
      "[[0.02352941 0.01176471]\n",
      " [0.09411765 0.04705882]]\n"
     ]
    }
   ],
   "source": [
    "a = np.array([[2, 8],\n",
    "               [1, 4]])\n",
    "print(\"a = \")\n",
    "print(a)\n",
    "det = np.linalg.det(a)\n",
    "print(\"\\nDeterminant:\", np.round(det))\n",
    "pinv = np.linalg.pinv(a)\n",
    "print(\"\\nPseudo Inverse of a = \")\n",
    "print(pinv)"
   ]
  },
  {
   "attachments": {},
   "cell_type": "markdown",
   "metadata": {},
   "source": [
    "#### Eigenvalues and eigenvectors"
   ]
  },
  {
   "cell_type": "code",
   "execution_count": 25,
   "metadata": {},
   "outputs": [
    {
     "name": "stdout",
     "output_type": "stream",
     "text": [
      "a = \n",
      "[[2 2 1]\n",
      " [1 3 1]\n",
      " [1 2 2]]\n",
      "\n",
      "Eigenvalues:\n",
      "[5. 1. 1.]\n",
      "\n",
      "Eigenvectors:\n",
      "[[-0.57735027 -0.90453403  0.82529864]\n",
      " [-0.57735027  0.30151134 -0.52125218]\n",
      " [-0.57735027  0.30151134  0.21720572]]\n"
     ]
    }
   ],
   "source": [
    "a = np.array([[2, 2, 1],\n",
    "               [1, 3, 1],\n",
    "               [1, 2, 2]])\n",
    "print(\"a = \")\n",
    "print(a)\n",
    "w, v = np.linalg.eig(a)\n",
    "print(\"\\nEigenvalues:\")\n",
    "print(w)\n",
    "print(\"\\nEigenvectors:\")\n",
    "print(v)"
   ]
  },
  {
   "cell_type": "code",
   "execution_count": 26,
   "metadata": {},
   "outputs": [
    {
     "name": "stdout",
     "output_type": "stream",
     "text": [
      "[-3. -2.]\n",
      "[3. 2. 1.]\n"
     ]
    }
   ],
   "source": [
    "p = [1, 5, 6] # x^2, x^1, x^0\n",
    "roots = np.roots(p)\n",
    "print(roots)\n",
    "\n",
    "coeff = [1, -6, 11, -6] # x^3 , x^2, x^1, x^0\n",
    "print(np.roots(coeff))"
   ]
  },
  {
   "attachments": {},
   "cell_type": "markdown",
   "metadata": {},
   "source": [
    "### Diagonalisierbarkeit"
   ]
  },
  {
   "cell_type": "code",
   "execution_count": 27,
   "metadata": {},
   "outputs": [
    {
     "data": {
      "text/plain": [
       "False"
      ]
     },
     "execution_count": 27,
     "metadata": {},
     "output_type": "execute_result"
    }
   ],
   "source": [
    "ar = np.array([[2, 2, 1],\n",
    "               [1, 3, 1],\n",
    "               [1, 2, 2]])\n",
    "\n",
    "# check if the matrix ar is diagonal\n",
    "np.array_equal(ar, np.diag(np.diag(ar)))\n",
    "\n"
   ]
  },
  {
   "cell_type": "code",
   "execution_count": 28,
   "metadata": {},
   "outputs": [
    {
     "name": "stdout",
     "output_type": "stream",
     "text": [
      "False\n"
     ]
    }
   ],
   "source": [
    "# create a matrix\n",
    "ar = np.array([\n",
    "    [1, 1, 0],\n",
    "    [0, 2, 0],\n",
    "    [0, 0, 3]\n",
    "])\n",
    "# check if the matrix ar is diagonal\n",
    "print(np.array_equal(ar, np.diag(np.diag(ar))))"
   ]
  },
  {
   "attachments": {},
   "cell_type": "markdown",
   "metadata": {},
   "source": [
    "### Orthogonalität\n",
    "\n",
    "quatratische Matrix !!\n",
    "\n",
    "$$\n",
    "Q^T \\cdot Q = I\n",
    "$$\n",
    "\n",
    "I -> Einheitsmatrix\n",
    "\n",
    "[0,1]\n",
    "[1,0]"
   ]
  },
  {
   "cell_type": "code",
   "execution_count": 29,
   "metadata": {},
   "outputs": [
    {
     "name": "stdout",
     "output_type": "stream",
     "text": [
      "[[1 0]\n",
      " [0 1]]\n",
      "0\n"
     ]
    }
   ],
   "source": [
    "\n",
    "a = np.array([[0, 1],\n",
    "              [1, 0]])\n",
    "b = np.array([[1, 0, 2],\n",
    "              [2, 2, -1],\n",
    "              [2, -2, 0],\n",
    "              [0, 1, 2]])\n",
    "\n",
    "t = np.transpose(a)\n",
    "d = np.dot(a,t)\n",
    "# or\n",
    "d = a.dot(a.T)\n",
    "#\n",
    "print(d)\n",
    "c = np.count_nonzero(d - np.diag(np.diagonal(d)))\n",
    "print(c) # if = 0 then Matrix is orthogonal\n"
   ]
  },
  {
   "cell_type": "code",
   "execution_count": 30,
   "metadata": {},
   "outputs": [
    {
     "name": "stdout",
     "output_type": "stream",
     "text": [
      "0\n",
      "0\n",
      "0\n"
     ]
    }
   ],
   "source": [
    "a = np.array([[1, 0, 2],\n",
    "              [2, 2, -1],\n",
    "              [2, -2, 0],\n",
    "              [0, 1, 2]])\n",
    "# first column:\n",
    "c1 = a[:, 0]\n",
    "# second column:\n",
    "c2 = a[:, 1]\n",
    "# third column:\n",
    "c3 = a[:, 2]\n",
    "# first column:\n",
    "r1 = a[0, :]\n",
    "# second column:\n",
    "r2 = a[1, :]\n",
    "# third column:\n",
    "r3 = a[2, :]\n",
    "\n",
    "# check if columns are orthogonal to each other\n",
    "print(np.dot(c1,c2)) # =0 if orthogonal\n",
    "print(np.dot(c1,c3)) # =0 if orthogonal\n",
    "print(np.dot(c2,c3)) # =0 if orthogonal\n"
   ]
  }
 ],
 "metadata": {
  "kernelspec": {
   "display_name": "Python 3",
   "language": "python",
   "name": "python3"
  },
  "language_info": {
   "codemirror_mode": {
    "name": "ipython",
    "version": 3
   },
   "file_extension": ".py",
   "mimetype": "text/x-python",
   "name": "python",
   "nbconvert_exporter": "python",
   "pygments_lexer": "ipython3",
   "version": "3.11.1 (tags/v3.11.1:a7a450f, Dec  6 2022, 19:58:39) [MSC v.1934 64 bit (AMD64)]"
  },
  "orig_nbformat": 4,
  "vscode": {
   "interpreter": {
    "hash": "5238573367df39f7286bb46f9ff5f08f63a01a80960060ce41e3c79b190280fa"
   }
  }
 },
 "nbformat": 4,
 "nbformat_minor": 2
}
